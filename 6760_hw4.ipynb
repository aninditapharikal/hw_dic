{
  "nbformat": 4,
  "nbformat_minor": 0,
  "metadata": {
    "colab": {
      "name": "6762hw2.ipynb",
      "provenance": []
    },
    "kernelspec": {
      "name": "python3",
      "display_name": "Python 3"
    },
    "accelerator": "GPU"
  },
  "cells": [
    {
      "cell_type": "code",
      "metadata": {
        "id": "CsBTGxYEM67J"
      },
      "source": [
        "import os\n",
        "\n",
        "import numpy as np\n",
        "import random\n",
        "import matplotlib.pyplot as plt\n",
        "\n",
        "import torch\n",
        "import torch.nn as nn\n",
        "import torch.nn.functional as F\n",
        "import torch.optim as optim\n",
        "\n",
        "use_cuda = True"
      ],
      "execution_count": 27,
      "outputs": []
    },
    {
      "cell_type": "markdown",
      "metadata": {
        "id": "CgGrQLrp3Bc_"
      },
      "source": [
        "Plot the results"
      ]
    },
    {
      "cell_type": "code",
      "metadata": {
        "id": "C5ExwUs8NkYJ"
      },
      "source": [
        "def plot_fit_history(history_plt):\n",
        "  tr_acc = history_plt['acc']\n",
        "  val_acc = history_plt['val_acc']\n",
        "  tr_loss = history_plt['loss']\n",
        "  val_loss = history_plt['val_loss']\n",
        "  epochs_range = range(1, len(tr_acc) + 1)\n",
        "  fig, ax1 = plt.subplots()\n",
        "\n",
        "  color = 'tab:red'\n",
        "  ax1.set_xlabel('Epochs')\n",
        "  ax1.set_ylabel('Loss', color=color)\n",
        "  l1, = ax1.plot(epochs_range, tr_loss, 's:', color=color, label='Training Loss', markeredgewidth=1, fillstyle='none')\n",
        "  l2, = ax1.plot(epochs_range, val_loss, 'o-', color=color, label='Validation Loss')\n",
        "  ax1.tick_params(axis='y', labelcolor=color, grid_color=color, grid_linestyle=':')\n",
        "\n",
        "  ax2 = ax1.twinx()  # instantiate a second axes that shares the same x-axis\n",
        "\n",
        "  color = 'tab:blue'\n",
        "  ax2.set_ylabel('Accuracy', color=color)  # we already handled the x-label with ax1\n",
        "  l3, = ax2.plot(epochs_range, tr_acc, 's:', color=color, label='Training Acc', markeredgewidth=1, fillstyle='none')\n",
        "  l4, = ax2.plot(epochs_range, val_acc, 'o-', color=color, label='Validation Acc')\n",
        "  ax2.tick_params(axis='y', labelcolor=color, grid_color=color, grid_linestyle=':')\n",
        "\n",
        "  fig.tight_layout()  # otherwise the right y-label is slightly clipped\n",
        "  \n",
        "  plt.legend((l1, l2, l3, l4), ('Training Loss', 'Validation Loss', 'Training Acc', 'Validation Acc'), loc=(1.2,0.5))\n",
        "  plt.show()"
      ],
      "execution_count": 44,
      "outputs": []
    },
    {
      "cell_type": "markdown",
      "metadata": {
        "id": "v5BR7Gpa3JtE"
      },
      "source": [
        "Files will be loaded now. The data file contains lines of notes (\"songs\") separated by newline characters."
      ]
    },
    {
      "cell_type": "code",
      "metadata": {
        "id": "X2WU_fUJNwdD",
        "outputId": "2d91e1c4-a481-4a0c-8d36-16282ee7c8aa",
        "colab": {
          "base_uri": "https://localhost:8080/"
        }
      },
      "source": [
        "class DataSet:\n",
        "  def __init__(self, songs):\n",
        "    # list of songs\n",
        "    self.s = songs\n",
        "    # number of notes in each song\n",
        "    self.n_s = []\n",
        "    for s0 in songs:\n",
        "      self.n_s.append(s0.shape[0])\n",
        "    self.n_s = np.array(self.n_s)\n",
        "    # total number of notes in all songs\n",
        "    self.n_t = self.n_s.sum()\n",
        "    # number of songs\n",
        "    self.n_n = len(self.s)\n",
        "    # all nodes as one sequence\n",
        "    self.orig_data = np.concatenate(self.s)\n",
        "\n",
        "# list of all songs from the datafile\n",
        "s = []\n",
        "\n",
        "with open('/content/drive/My Drive/Colab Notebooks/music.txt') as fp:\n",
        "  for cnt, line in enumerate(fp):\n",
        "    s0 = np.fromstring(line, sep=\" \", dtype=int)\n",
        "    s.append(s0)\n",
        "\n",
        "full_set = DataSet(s)\n",
        "\n",
        "print(full_set.n_t)\n",
        "\n",
        "print(full_set.orig_data.shape)"
      ],
      "execution_count": 29,
      "outputs": [
        {
          "output_type": "stream",
          "text": [
            "1553149\n",
            "(1553149,)\n"
          ],
          "name": "stdout"
        }
      ]
    },
    {
      "cell_type": "markdown",
      "metadata": {
        "id": "t4vjG5Fh3Rso"
      },
      "source": [
        "Data preprocessing"
      ]
    },
    {
      "cell_type": "code",
      "metadata": {
        "id": "JGIDuY7fOAH3",
        "outputId": "38e4557b-f4ba-45bc-9c26-9ae4aa53ba1b",
        "colab": {
          "base_uri": "https://localhost:8080/"
        }
      },
      "source": [
        "data_dict = np.unique(full_set.orig_data);\n",
        "\n",
        "dim = len(data_dict)\n",
        "\n",
        "# class label to class index mapping\n",
        "label_to_int = dict((l, i) for i, l in enumerate(data_dict))\n",
        "\n",
        "# one-hot encoding from class indices\n",
        "def get_one_hot(targets, nb_classes):\n",
        "    res = np.eye(nb_classes)[targets]\n",
        "    return res.reshape(list(targets.shape)+[nb_classes])\n",
        "\n",
        "# encoding full DataSet\n",
        "# by adding new attributes to the data structure\n",
        "full_set.int_s = []\n",
        "full_set.one_hot_s = []\n",
        "for s0 in full_set.s:\n",
        "  int_tmp = np.array([label_to_int[l] for l in s0], dtype=int)\n",
        "  # data as class indices\n",
        "  full_set.int_s.append(int_tmp)\n",
        "  # data as one-hot vectors\n",
        "  full_set.one_hot_s.append(get_one_hot(int_tmp, dim))\n",
        "\n",
        "print(full_set.one_hot_s[0].shape)"
      ],
      "execution_count": 30,
      "outputs": [
        {
          "output_type": "stream",
          "text": [
            "(1004, 89)\n"
          ],
          "name": "stdout"
        }
      ]
    },
    {
      "cell_type": "markdown",
      "metadata": {
        "id": "Ub3m1X0B3Wlw"
      },
      "source": [
        "Total there are 740 songs. First 80 songs are taken as validation set and the rest is training set"
      ]
    },
    {
      "cell_type": "code",
      "metadata": {
        "id": "kObz0T6nOHln"
      },
      "source": [
        "n_validation_songs = 80\n",
        "\n",
        "val_d = DataSet(s[0:n_validation_songs])\n",
        "val_d.int_s = full_set.int_s[0:n_validation_songs]\n",
        "val_d.one_hot_s = full_set.one_hot_s[0:n_validation_songs]\n",
        "\n",
        "tr_d =  DataSet(s[n_validation_songs:])\n",
        "tr_d.int_s = full_set.int_s[n_validation_songs:]\n",
        "tr_d.one_hot_s = full_set.one_hot_s[n_validation_songs:]"
      ],
      "execution_count": 31,
      "outputs": []
    },
    {
      "cell_type": "code",
      "metadata": {
        "id": "2iaghEnpOZn_",
        "outputId": "4e2b885e-f6b6-4dff-8978-ff963899735e",
        "colab": {
          "base_uri": "https://localhost:8080/"
        }
      },
      "source": [
        "print(val_d.one_hot_s[0].shape)"
      ],
      "execution_count": 32,
      "outputs": [
        {
          "output_type": "stream",
          "text": [
            "(1004, 89)\n"
          ],
          "name": "stdout"
        }
      ]
    },
    {
      "cell_type": "code",
      "metadata": {
        "id": "Efqm07q1Ocvi"
      },
      "source": [
        "batch = 64\n",
        "timelapse = 32\n",
        "\n",
        "def generator(data, b=batch, t=timelapse):\n",
        "  n_t_p = data.n_t - data.n_n*(t+1)\n",
        "  n_s_p = data.n_s - (t+1)\n",
        "  while True:\n",
        "    samples = np.zeros((b, t, dim))\n",
        "    targets = np.zeros((b)) \n",
        "    for k in range (b):\n",
        "      i = random.randrange(0, n_t_p)\n",
        "      j = 0;\n",
        "      while i >= n_s_p[j]:\n",
        "         i -= n_s_p[j]\n",
        "         j += 1\n",
        "      samples[k] = data.one_hot_s[j][i:i+t]\n",
        "      targets[k] = data.int_s[j][i+t]\n",
        "\n",
        "    yield samples, targets"
      ],
      "execution_count": 33,
      "outputs": []
    },
    {
      "cell_type": "markdown",
      "metadata": {
        "id": "ATQevdKA3o0g"
      },
      "source": [
        "We are using a 2 layered LSTM model."
      ]
    },
    {
      "cell_type": "code",
      "metadata": {
        "id": "sUgnpAz-Oybe"
      },
      "source": [
        "class Model(nn.Module):\n",
        "\n",
        "    def __init__(self, input_dim, hidden_dim, batch_size, output_dim=1,\n",
        "                    num_layers=2):\n",
        "        super(Model, self).__init__()\n",
        "        self.input_dim = input_dim\n",
        "        self.hidden_dim = hidden_dim\n",
        "        self.batch_size = batch_size\n",
        "        self.output_dim = output_dim\n",
        "        self.num_layers = num_layers\n",
        "        self.hidden = self.init_hidden()\n",
        "\n",
        "        # Define the LSTM layer\n",
        "        self.lstm = nn.LSTM(self.input_dim, self.hidden_dim, self.num_layers)\n",
        "\n",
        "        # Define the dense layer\n",
        "        self.linear = nn.Linear(self.hidden_dim, output_dim)\n",
        "\n",
        "    def init_hidden(self):\n",
        "        # This is what we'll initialise our hidden state as\n",
        "        return (torch.zeros(self.num_layers, self.batch_size, self.hidden_dim),\n",
        "                torch.zeros(self.num_layers, self.batch_size, self.hidden_dim))\n",
        "\n",
        "    def forward(self, input):\n",
        "        lstm_out, self.hidden = self.lstm(input.view(-1, self.batch_size, self.input_dim))\n",
        "        y_pred = self.linear(lstm_out[-1].view(self.batch_size, -1))\n",
        "        return y_pred"
      ],
      "execution_count": 34,
      "outputs": []
    },
    {
      "cell_type": "code",
      "metadata": {
        "id": "FCyhGvjlO3Ko"
      },
      "source": [
        "sample_size = tr_d.n_t - timelapse*tr_d.n_n\n",
        "val_size = val_d.n_t - timelapse*val_d.n_n\n",
        "\n",
        "h_dim = 512\n",
        "model = Model(dim, h_dim, batch, dim, 2)\n",
        "if use_cuda and torch.cuda.is_available():\n",
        "    model.cuda()"
      ],
      "execution_count": 35,
      "outputs": []
    },
    {
      "cell_type": "code",
      "metadata": {
        "id": "FnhMo4dbO6kI"
      },
      "source": [
        "learning_rate = 0.001\n",
        "\n",
        "loss_fn = nn.CrossEntropyLoss()\n",
        "optimiser = optim.RMSprop(model.parameters(), lr=learning_rate)"
      ],
      "execution_count": 36,
      "outputs": []
    },
    {
      "cell_type": "code",
      "metadata": {
        "id": "CBaI5iFnO8wz"
      },
      "source": [
        "hist = {\"acc\": [], \"loss\": [], \"val_loss\": [], \"val_acc\": []}\n",
        "\n",
        "\n",
        "def train(num_epochs, tr_gen, val_gen):\n",
        "  for t in range(num_epochs):\n",
        "    correct = 0\n",
        "    total = 0\n",
        "    for b1 in range(0, sample_size, batch*timelapse):\n",
        "      \n",
        "      # Clear stored gradient\n",
        "      model.zero_grad()\n",
        "      optimiser.zero_grad()\n",
        "\n",
        "      # Forward pass\n",
        "      x_batch, y_batch = next(tr_gen)\n",
        "      x_batch = torch.from_numpy(np.swapaxes(x_batch, 0, 1)).float()\n",
        "      y_batch = torch.from_numpy(y_batch).long()\n",
        "      if use_cuda and torch.cuda.is_available():\n",
        "        x_batch = x_batch.cuda()\n",
        "        y_batch = y_batch.cuda()\n",
        "      y_pred = model(x_batch)\n",
        "      _, predicted = torch.max(y_pred.data, 1)\n",
        "      labels = y_batch\n",
        "      correct += (predicted.cpu() == labels.cpu()).sum()\n",
        "      total += labels.size(0)\n",
        "      loss = loss_fn(y_pred, y_batch)\n",
        "      if b1 == 0:\n",
        "        # print(y_pred.shape)\n",
        "        print(\"Epoch \", t, \"Loss: \", loss.item())\n",
        "      currloss = loss.item()\n",
        "\n",
        "      # Backward pass\n",
        "      loss.backward()\n",
        "\n",
        "      # Update parameters\n",
        "      optimiser.step()\n",
        "    \n",
        "    accuracy = 100 * correct.item() / total\n",
        "    hist[\"loss\"].append(currloss)\n",
        "    hist[\"acc\"].append(accuracy)\n",
        "    print(\"acc: \", accuracy)\n",
        "\n",
        "    # Validation\n",
        "    correct = 0\n",
        "    total = 0\n",
        "    loss = 0\n",
        "    n_b = 0\n",
        "    with torch.no_grad():\n",
        "      for b in range(0, val_size, batch*timelapse):\n",
        "        x_batch, y_batch = next(val_gen)\n",
        "        x_batch = torch.from_numpy(np.swapaxes(x_batch, 0, 1)).float()\n",
        "        y_batch = torch.from_numpy(y_batch).long()\n",
        "        if use_cuda and torch.cuda.is_available():\n",
        "          x_batch = x_batch.cuda()\n",
        "          y_batch = y_batch.cuda()\n",
        "        y_pred = model(x_batch)\n",
        "        _, predicted = torch.max(y_pred.data, 1)\n",
        "        labels = y_batch\n",
        "        correct += (predicted.cpu() == labels.cpu()).sum()\n",
        "        total += labels.size(0)\n",
        "        loss += loss_fn(y_pred, y_batch)\n",
        "        n_b += 1\n",
        "      accuracy = 100 * correct.item() / total\n",
        "      loss = loss.item() / n_b \n",
        "    hist[\"val_loss\"].append(loss)\n",
        "    hist[\"val_acc\"].append(accuracy)\n",
        "    print(\"Val acc: \", accuracy, \"Val loss: \", loss)"
      ],
      "execution_count": 37,
      "outputs": []
    },
    {
      "cell_type": "code",
      "metadata": {
        "id": "zhXy0c4pPAmP"
      },
      "source": [
        "gen = generator(tr_d)\n",
        "vgen = generator(val_d)"
      ],
      "execution_count": 38,
      "outputs": []
    },
    {
      "cell_type": "code",
      "metadata": {
        "id": "2BRziQXaPCUJ",
        "outputId": "74a86367-3386-4a1b-f1ed-873c50c91f46",
        "colab": {
          "base_uri": "https://localhost:8080/"
        }
      },
      "source": [
        "train(80, gen, vgen)"
      ],
      "execution_count": 39,
      "outputs": [
        {
          "output_type": "stream",
          "text": [
            "Epoch  0 Loss:  4.481044292449951\n",
            "acc:  3.42966573816156\n",
            "Val acc:  3.4375 Val loss:  3.7486368815104165\n",
            "Epoch  1 Loss:  3.874610424041748\n",
            "acc:  3.7212743732590527\n",
            "Val acc:  3.3854166666666665 Val loss:  3.720936584472656\n",
            "Epoch  2 Loss:  3.9086477756500244\n",
            "acc:  4.754961699164346\n",
            "Val acc:  5.15625 Val loss:  3.548292032877604\n",
            "Epoch  3 Loss:  3.7313098907470703\n",
            "acc:  6.241295264623956\n",
            "Val acc:  6.770833333333333 Val loss:  3.43245366414388\n",
            "Epoch  4 Loss:  3.597437858581543\n",
            "acc:  7.671048050139276\n",
            "Val acc:  9.114583333333334 Val loss:  3.3529637654622397\n",
            "Epoch  5 Loss:  3.481365442276001\n",
            "acc:  9.483809192200557\n",
            "Val acc:  9.479166666666666 Val loss:  3.2607243855794272\n",
            "Epoch  6 Loss:  3.207350730895996\n",
            "acc:  10.702472144846796\n",
            "Val acc:  11.614583333333334 Val loss:  3.2068585713704425\n",
            "Epoch  7 Loss:  3.3116676807403564\n",
            "acc:  12.019063370473537\n",
            "Val acc:  11.510416666666666 Val loss:  3.2070164998372395\n",
            "Epoch  8 Loss:  3.111017942428589\n",
            "acc:  13.368297353760445\n",
            "Val acc:  13.385416666666666 Val loss:  3.095544942220052\n",
            "Epoch  9 Loss:  3.3542330265045166\n",
            "acc:  14.939502089136491\n",
            "Val acc:  16.302083333333332 Val loss:  3.0079320271809897\n",
            "Epoch  10 Loss:  3.010730266571045\n",
            "acc:  16.169045961002787\n",
            "Val acc:  15.677083333333334 Val loss:  3.027068328857422\n",
            "Epoch  11 Loss:  2.773928642272949\n",
            "acc:  18.012273676880223\n",
            "Val acc:  17.34375 Val loss:  2.942633565266927\n",
            "Epoch  12 Loss:  3.075413227081299\n",
            "acc:  19.07425139275766\n",
            "Val acc:  21.145833333333332 Val loss:  2.824318695068359\n",
            "Epoch  13 Loss:  2.884303569793701\n",
            "acc:  20.262447771587745\n",
            "Val acc:  17.65625 Val loss:  2.879827372233073\n",
            "Epoch  14 Loss:  2.906665802001953\n",
            "acc:  21.487639275766018\n",
            "Val acc:  18.072916666666668 Val loss:  2.8727129618326823\n",
            "Epoch  15 Loss:  2.8922200202941895\n",
            "acc:  22.7345926183844\n",
            "Val acc:  18.802083333333332 Val loss:  2.898320770263672\n",
            "Epoch  16 Loss:  3.0925259590148926\n",
            "acc:  23.948903203342617\n",
            "Val acc:  19.84375 Val loss:  2.816063944498698\n",
            "Epoch  17 Loss:  2.783794403076172\n",
            "acc:  24.947771587743734\n",
            "Val acc:  21.09375 Val loss:  2.777508544921875\n",
            "Epoch  18 Loss:  2.7102644443511963\n",
            "acc:  25.389536908077993\n",
            "Val acc:  19.895833333333332 Val loss:  2.806750996907552\n",
            "Epoch  19 Loss:  2.8432235717773438\n",
            "acc:  26.471100278551532\n",
            "Val acc:  21.458333333333332 Val loss:  2.798034159342448\n",
            "Epoch  20 Loss:  2.646165132522583\n",
            "acc:  27.065198467966574\n",
            "Val acc:  22.395833333333332 Val loss:  2.758910369873047\n",
            "Epoch  21 Loss:  2.350984573364258\n",
            "acc:  27.72240598885794\n",
            "Val acc:  20.989583333333332 Val loss:  2.7937644958496093\n",
            "Epoch  22 Loss:  2.67396879196167\n",
            "acc:  28.238161559888578\n",
            "Val acc:  23.020833333333332 Val loss:  2.7609237670898437\n",
            "Epoch  23 Loss:  2.3769161701202393\n",
            "acc:  28.46666086350975\n",
            "Val acc:  21.770833333333332 Val loss:  2.743028767903646\n",
            "Epoch  24 Loss:  2.722083568572998\n",
            "acc:  29.469881615598887\n",
            "Val acc:  23.020833333333332 Val loss:  2.7265108744303386\n",
            "Epoch  25 Loss:  2.8056039810180664\n",
            "acc:  30.000870473537603\n",
            "Val acc:  21.09375 Val loss:  2.74342778523763\n",
            "Epoch  26 Loss:  2.3747544288635254\n",
            "acc:  30.155379526462397\n",
            "Val acc:  23.4375 Val loss:  2.768946075439453\n",
            "Epoch  27 Loss:  2.6271581649780273\n",
            "acc:  31.008443593314762\n",
            "Val acc:  24.791666666666668 Val loss:  2.7091341654459637\n",
            "Epoch  28 Loss:  2.4157705307006836\n",
            "acc:  31.30658077994429\n",
            "Val acc:  24.114583333333332 Val loss:  2.7182833353678384\n",
            "Epoch  29 Loss:  2.123723030090332\n",
            "acc:  31.942026462395543\n",
            "Val acc:  23.802083333333332 Val loss:  2.720928446451823\n",
            "Epoch  30 Loss:  2.430614948272705\n",
            "acc:  32.657990947075206\n",
            "Val acc:  24.479166666666668 Val loss:  2.6827730814615887\n",
            "Epoch  31 Loss:  2.478259563446045\n",
            "acc:  32.53612465181058\n",
            "Val acc:  24.0625 Val loss:  2.6832181294759114\n",
            "Epoch  32 Loss:  2.488863468170166\n",
            "acc:  33.06493732590529\n",
            "Val acc:  23.697916666666668 Val loss:  2.702687072753906\n",
            "Epoch  33 Loss:  2.608330011367798\n",
            "acc:  33.4370647632312\n",
            "Val acc:  25.416666666666668 Val loss:  2.6474375406901043\n",
            "Epoch  34 Loss:  2.3450217247009277\n",
            "acc:  34.44028551532033\n",
            "Val acc:  24.21875 Val loss:  2.664284261067708\n",
            "Epoch  35 Loss:  2.4869918823242188\n",
            "acc:  34.06598189415042\n",
            "Val acc:  24.583333333333332 Val loss:  2.6995203653971354\n",
            "Epoch  36 Loss:  2.4371025562286377\n",
            "acc:  34.63831824512535\n",
            "Val acc:  22.239583333333332 Val loss:  2.742692057291667\n",
            "Epoch  37 Loss:  2.1476399898529053\n",
            "acc:  35.54796309192201\n",
            "Val acc:  24.739583333333332 Val loss:  2.632094065348307\n",
            "Epoch  38 Loss:  2.3906219005584717\n",
            "acc:  35.558844011142064\n",
            "Val acc:  24.895833333333332 Val loss:  2.681316630045573\n",
            "Epoch  39 Loss:  1.9543688297271729\n",
            "acc:  35.859157381615596\n",
            "Val acc:  25.364583333333332 Val loss:  2.6713666280110675\n",
            "Epoch  40 Loss:  2.5573933124542236\n",
            "acc:  35.81780988857939\n",
            "Val acc:  25.677083333333332 Val loss:  2.668140665690104\n",
            "Epoch  41 Loss:  2.009284496307373\n",
            "acc:  36.54900766016713\n",
            "Val acc:  24.114583333333332 Val loss:  2.678486124674479\n",
            "Epoch  42 Loss:  2.1539056301116943\n",
            "acc:  36.5620647632312\n",
            "Val acc:  25.364583333333332 Val loss:  2.6647682189941406\n",
            "Epoch  43 Loss:  2.284205198287964\n",
            "acc:  37.0321204735376\n",
            "Val acc:  25.833333333333332 Val loss:  2.6058311462402344\n",
            "Epoch  44 Loss:  2.6278648376464844\n",
            "acc:  37.41512883008357\n",
            "Val acc:  25.833333333333332 Val loss:  2.706709543863932\n",
            "Epoch  45 Loss:  2.540537118911743\n",
            "acc:  37.63057103064067\n",
            "Val acc:  23.385416666666668 Val loss:  2.6862085978190104\n",
            "Epoch  46 Loss:  2.2838685512542725\n",
            "acc:  38.16808844011142\n",
            "Val acc:  27.34375 Val loss:  2.644969940185547\n",
            "Epoch  47 Loss:  2.3423714637756348\n",
            "acc:  38.47057799442897\n",
            "Val acc:  25.78125 Val loss:  2.6185768127441404\n",
            "Epoch  48 Loss:  2.5308406352996826\n",
            "acc:  38.707782033426184\n",
            "Val acc:  23.697916666666668 Val loss:  2.7072219848632812\n",
            "Epoch  49 Loss:  2.4876980781555176\n",
            "acc:  39.04073816155989\n",
            "Val acc:  24.166666666666668 Val loss:  2.6905423482259114\n",
            "Epoch  50 Loss:  2.368614912033081\n",
            "acc:  39.06685236768802\n",
            "Val acc:  25.989583333333332 Val loss:  2.7107579549153646\n",
            "Epoch  51 Loss:  2.340473175048828\n",
            "acc:  39.84810236768802\n",
            "Val acc:  23.541666666666668 Val loss:  2.74810791015625\n",
            "Epoch  52 Loss:  2.1112582683563232\n",
            "acc:  39.71535515320334\n",
            "Val acc:  24.84375 Val loss:  2.715764872233073\n",
            "Epoch  53 Loss:  2.2422256469726562\n",
            "acc:  39.93079735376045\n",
            "Val acc:  23.90625 Val loss:  2.724347941080729\n",
            "Epoch  54 Loss:  2.1731178760528564\n",
            "acc:  40.24852019498607\n",
            "Val acc:  24.270833333333332 Val loss:  2.700853729248047\n",
            "Epoch  55 Loss:  2.1900150775909424\n",
            "acc:  40.69028551532033\n",
            "Val acc:  23.697916666666668 Val loss:  2.658251190185547\n",
            "Epoch  56 Loss:  2.239184856414795\n",
            "acc:  41.14075557103064\n",
            "Val acc:  25.15625 Val loss:  2.696036529541016\n",
            "Epoch  57 Loss:  2.5480120182037354\n",
            "acc:  41.56728760445682\n",
            "Val acc:  25.677083333333332 Val loss:  2.6616592407226562\n",
            "Epoch  58 Loss:  1.919829249382019\n",
            "acc:  41.38448816155989\n",
            "Val acc:  25.46875 Val loss:  2.6450459798177084\n",
            "Epoch  59 Loss:  2.4254021644592285\n",
            "acc:  41.77184888579387\n",
            "Val acc:  25.0 Val loss:  2.734930165608724\n",
            "Epoch  60 Loss:  1.9276607036590576\n",
            "acc:  41.5825208913649\n",
            "Val acc:  24.739583333333332 Val loss:  2.67473882039388\n",
            "Epoch  61 Loss:  2.0597732067108154\n",
            "acc:  42.53133704735376\n",
            "Val acc:  24.6875 Val loss:  2.7427520751953125\n",
            "Epoch  62 Loss:  1.7773958444595337\n",
            "acc:  42.60967966573816\n",
            "Val acc:  25.625 Val loss:  2.727100118001302\n",
            "Epoch  63 Loss:  2.0272223949432373\n",
            "acc:  42.75113161559889\n",
            "Val acc:  25.364583333333332 Val loss:  2.7037376403808593\n",
            "Epoch  64 Loss:  2.2759158611297607\n",
            "acc:  43.0079213091922\n",
            "Val acc:  27.1875 Val loss:  2.680279032389323\n",
            "Epoch  65 Loss:  2.0182881355285645\n",
            "acc:  43.127611420612816\n",
            "Val acc:  24.427083333333332 Val loss:  2.731006368001302\n",
            "Epoch  66 Loss:  1.9355593919754028\n",
            "acc:  43.20595403899721\n",
            "Val acc:  24.84375 Val loss:  2.7266281127929686\n",
            "Epoch  67 Loss:  2.0521981716156006\n",
            "acc:  43.67818593314763\n",
            "Val acc:  24.479166666666668 Val loss:  2.7356363932291665\n",
            "Epoch  68 Loss:  2.075599431991577\n",
            "acc:  43.74129526462396\n",
            "Val acc:  25.625 Val loss:  2.6772059122721354\n",
            "Epoch  69 Loss:  1.8297380208969116\n",
            "acc:  44.11777506963789\n",
            "Val acc:  26.822916666666668 Val loss:  2.6372108459472656\n",
            "Epoch  70 Loss:  1.958547830581665\n",
            "acc:  44.33974582172702\n",
            "Val acc:  25.416666666666668 Val loss:  2.7415260314941405\n",
            "Epoch  71 Loss:  1.889362096786499\n",
            "acc:  44.309279247910865\n",
            "Val acc:  26.25 Val loss:  2.6879531860351564\n",
            "Epoch  72 Loss:  1.9043729305267334\n",
            "acc:  44.561716573816156\n",
            "Val acc:  23.75 Val loss:  2.7353243509928387\n",
            "Epoch  73 Loss:  1.9577739238739014\n",
            "acc:  45.19933844011142\n",
            "Val acc:  24.375 Val loss:  2.7683232625325522\n",
            "Epoch  74 Loss:  2.243352174758911\n",
            "acc:  44.93166782729805\n",
            "Val acc:  25.208333333333332 Val loss:  2.702972920735677\n",
            "Epoch  75 Loss:  1.8739160299301147\n",
            "acc:  45.64980849582173\n",
            "Val acc:  25.572916666666668 Val loss:  2.688715362548828\n",
            "Epoch  76 Loss:  2.3334834575653076\n",
            "acc:  45.699860724233986\n",
            "Val acc:  26.770833333333332 Val loss:  2.68729985555013\n",
            "Epoch  77 Loss:  1.745139241218567\n",
            "acc:  45.610637186629525\n",
            "Val acc:  24.635416666666668 Val loss:  2.7407658894856772\n",
            "Epoch  78 Loss:  2.006877899169922\n",
            "acc:  45.843488857938716\n",
            "Val acc:  23.854166666666668 Val loss:  2.805882771809896\n",
            "Epoch  79 Loss:  2.2029640674591064\n",
            "acc:  46.156859331476326\n",
            "Val acc:  25.260416666666668 Val loss:  2.7836530049641928\n"
          ],
          "name": "stdout"
        }
      ]
    },
    {
      "cell_type": "code",
      "metadata": {
        "id": "aJyuXWIHPEjw",
        "outputId": "b3962fc1-6fa8-4871-9dc1-787378ed591c",
        "colab": {
          "base_uri": "https://localhost:8080/"
        }
      },
      "source": [
        "for param_group in optimiser.param_groups:\n",
        "        param_group['lr'] = learning_rate/3\n",
        "train(25, gen, vgen)"
      ],
      "execution_count": 40,
      "outputs": [
        {
          "output_type": "stream",
          "text": [
            "Epoch  0 Loss:  1.8731138706207275\n",
            "acc:  47.27541782729805\n",
            "Val acc:  23.28125 Val loss:  2.803538513183594\n",
            "Epoch  1 Loss:  1.8555808067321777\n",
            "acc:  48.72040389972145\n",
            "Val acc:  25.052083333333332 Val loss:  2.7873138427734374\n",
            "Epoch  2 Loss:  2.3789432048797607\n",
            "acc:  49.188283426183844\n",
            "Val acc:  25.520833333333332 Val loss:  2.752007802327474\n",
            "Epoch  3 Loss:  1.706709623336792\n",
            "acc:  49.701862813370475\n",
            "Val acc:  23.541666666666668 Val loss:  2.8109469095865887\n",
            "Epoch  4 Loss:  1.8886009454727173\n",
            "acc:  50.2916086350975\n",
            "Val acc:  24.114583333333332 Val loss:  2.789398447672526\n",
            "Epoch  5 Loss:  1.9649107456207275\n",
            "acc:  50.470055710306404\n",
            "Val acc:  23.541666666666668 Val loss:  2.7858248392740887\n",
            "Epoch  6 Loss:  1.622462272644043\n",
            "acc:  50.97275417827298\n",
            "Val acc:  25.052083333333332 Val loss:  2.7604698181152343\n",
            "Epoch  7 Loss:  1.9321367740631104\n",
            "acc:  51.40146239554318\n",
            "Val acc:  25.729166666666668 Val loss:  2.768787384033203\n",
            "Epoch  8 Loss:  1.9177192449569702\n",
            "acc:  51.65607590529248\n",
            "Val acc:  25.104166666666668 Val loss:  2.767352294921875\n",
            "Epoch  9 Loss:  1.6809762716293335\n",
            "acc:  52.21535515320334\n",
            "Val acc:  27.135416666666668 Val loss:  2.718682861328125\n",
            "Epoch  10 Loss:  1.7995481491088867\n",
            "acc:  52.3829213091922\n",
            "Val acc:  25.78125 Val loss:  2.688239034016927\n",
            "Epoch  11 Loss:  1.8472769260406494\n",
            "acc:  52.06302228412256\n",
            "Val acc:  26.25 Val loss:  2.769306437174479\n",
            "Epoch  12 Loss:  1.724331021308899\n",
            "acc:  52.755048746518106\n",
            "Val acc:  24.53125 Val loss:  2.7778905232747397\n",
            "Epoch  13 Loss:  1.9758453369140625\n",
            "acc:  53.11629526462396\n",
            "Val acc:  24.895833333333332 Val loss:  2.8137173970540363\n",
            "Epoch  14 Loss:  1.4661710262298584\n",
            "acc:  53.55806058495822\n",
            "Val acc:  24.895833333333332 Val loss:  2.8009747823079425\n",
            "Epoch  15 Loss:  1.6392079591751099\n",
            "acc:  53.87360724233983\n",
            "Val acc:  23.28125 Val loss:  2.8362721761067706\n",
            "Epoch  16 Loss:  2.0918984413146973\n",
            "acc:  53.92365947075209\n",
            "Val acc:  24.895833333333332 Val loss:  2.8102325439453124\n",
            "Epoch  17 Loss:  2.029806137084961\n",
            "acc:  54.38283426183844\n",
            "Val acc:  24.270833333333332 Val loss:  2.74723637898763\n",
            "Epoch  18 Loss:  1.9239736795425415\n",
            "acc:  54.11951601671309\n",
            "Val acc:  24.0625 Val loss:  2.782609303792318\n",
            "Epoch  19 Loss:  1.8664684295654297\n",
            "acc:  54.757137883008355\n",
            "Val acc:  25.833333333333332 Val loss:  2.7471664428710936\n",
            "Epoch  20 Loss:  1.4625933170318604\n",
            "acc:  54.74190459610028\n",
            "Val acc:  25.0 Val loss:  2.7688446044921875\n",
            "Epoch  21 Loss:  1.254225492477417\n",
            "acc:  54.99216573816156\n",
            "Val acc:  24.322916666666668 Val loss:  2.8399454752604165\n",
            "Epoch  22 Loss:  1.4259717464447021\n",
            "acc:  55.11620821727019\n",
            "Val acc:  26.09375 Val loss:  2.718455759684245\n",
            "Epoch  23 Loss:  1.9117385149002075\n",
            "acc:  55.48615947075209\n",
            "Val acc:  23.177083333333332 Val loss:  2.8785486857096356\n",
            "Epoch  24 Loss:  1.5660247802734375\n",
            "acc:  55.895282033426184\n",
            "Val acc:  25.520833333333332 Val loss:  2.782257843017578\n"
          ],
          "name": "stdout"
        }
      ]
    },
    {
      "cell_type": "code",
      "metadata": {
        "id": "y3JBnuNnUbQi",
        "outputId": "9475a1f0-414b-4831-f21d-efa5b6c85e02",
        "colab": {
          "base_uri": "https://localhost:8080/"
        }
      },
      "source": [
        "for param_group in optimiser.param_groups:\n",
        "        param_group['lr'] = learning_rate/9\n",
        "train(25, gen, vgen)"
      ],
      "execution_count": 41,
      "outputs": [
        {
          "output_type": "stream",
          "text": [
            "Epoch  0 Loss:  1.729005217552185\n",
            "acc:  55.65372562674095\n",
            "Val acc:  24.270833333333332 Val loss:  2.8470136006673177\n",
            "Epoch  1 Loss:  1.7728588581085205\n",
            "acc:  56.49373259052925\n",
            "Val acc:  24.479166666666668 Val loss:  2.787554931640625\n",
            "Epoch  2 Loss:  1.3776943683624268\n",
            "acc:  56.58730849582173\n",
            "Val acc:  24.010416666666668 Val loss:  2.846393585205078\n",
            "Epoch  3 Loss:  1.7565683126449585\n",
            "acc:  56.51114206128134\n",
            "Val acc:  25.260416666666668 Val loss:  2.8153658548990887\n",
            "Epoch  4 Loss:  1.8498961925506592\n",
            "acc:  56.8549791086351\n",
            "Val acc:  24.895833333333332 Val loss:  2.835796101888021\n",
            "Epoch  5 Loss:  1.5883123874664307\n",
            "acc:  57.38379178272981\n",
            "Val acc:  24.0625 Val loss:  2.8171002705891928\n",
            "Epoch  6 Loss:  1.3858168125152588\n",
            "acc:  58.223798746518106\n",
            "Val acc:  23.958333333333332 Val loss:  2.8161822001139325\n",
            "Epoch  7 Loss:  1.6459298133850098\n",
            "acc:  57.57529596100279\n",
            "Val acc:  25.364583333333332 Val loss:  2.7885220845540366\n",
            "Epoch  8 Loss:  1.7482150793075562\n",
            "acc:  57.69280988857939\n",
            "Val acc:  24.53125 Val loss:  2.870586903889974\n",
            "Epoch  9 Loss:  1.6708004474639893\n",
            "acc:  58.46970752089136\n",
            "Val acc:  23.385416666666668 Val loss:  2.8728037516276044\n",
            "Epoch  10 Loss:  1.8138056993484497\n",
            "acc:  57.914780640668525\n",
            "Val acc:  25.364583333333332 Val loss:  2.7879763285319012\n",
            "Epoch  11 Loss:  1.6072297096252441\n",
            "acc:  58.59810236768802\n",
            "Val acc:  25.0 Val loss:  2.8030047098795574\n",
            "Epoch  12 Loss:  1.678483247756958\n",
            "acc:  58.35654596100279\n",
            "Val acc:  24.322916666666668 Val loss:  2.8890421549479166\n",
            "Epoch  13 Loss:  1.9127109050750732\n",
            "acc:  58.39354108635097\n",
            "Val acc:  24.739583333333332 Val loss:  2.818938954671224\n",
            "Epoch  14 Loss:  1.5156129598617554\n",
            "acc:  58.68950208913649\n",
            "Val acc:  24.0625 Val loss:  2.88253173828125\n",
            "Epoch  15 Loss:  1.1889358758926392\n",
            "acc:  58.91582520891365\n",
            "Val acc:  25.572916666666668 Val loss:  2.852666727701823\n",
            "Epoch  16 Loss:  1.406801462173462\n",
            "acc:  59.01375348189415\n",
            "Val acc:  24.6875 Val loss:  2.843208821614583\n",
            "Epoch  17 Loss:  1.286947250366211\n",
            "acc:  58.904944289693596\n",
            "Val acc:  25.989583333333332 Val loss:  2.8061932881673175\n",
            "Epoch  18 Loss:  1.60433828830719\n",
            "acc:  59.36411908077994\n",
            "Val acc:  25.052083333333332 Val loss:  2.7694854736328125\n",
            "Epoch  19 Loss:  1.8630342483520508\n",
            "acc:  59.216138579387184\n",
            "Val acc:  25.15625 Val loss:  2.885933430989583\n",
            "Epoch  20 Loss:  1.7843413352966309\n",
            "acc:  59.43158077994429\n",
            "Val acc:  24.0625 Val loss:  2.898088836669922\n",
            "Epoch  21 Loss:  1.6477940082550049\n",
            "acc:  59.32277158774373\n",
            "Val acc:  25.677083333333332 Val loss:  2.911926015218099\n",
            "Epoch  22 Loss:  1.876420497894287\n",
            "acc:  59.905988857938716\n",
            "Val acc:  24.895833333333332 Val loss:  2.90021235148112\n",
            "Epoch  23 Loss:  1.3665279150009155\n",
            "acc:  59.786298746518106\n",
            "Val acc:  23.75 Val loss:  2.872918192545573\n",
            "Epoch  24 Loss:  1.3694250583648682\n",
            "acc:  60.162778551532035\n",
            "Val acc:  25.729166666666668 Val loss:  2.8730918884277346\n"
          ],
          "name": "stdout"
        }
      ]
    },
    {
      "cell_type": "code",
      "metadata": {
        "id": "9Ah138FjCu1N",
        "outputId": "0952d806-6446-41d8-8fa1-1effe90696cd",
        "colab": {
          "base_uri": "https://localhost:8080/"
        }
      },
      "source": [
        "for param_group in optimiser.param_groups:\n",
        "        param_group['lr'] = learning_rate/27\n",
        "train(25, gen, vgen)"
      ],
      "execution_count": 46,
      "outputs": [
        {
          "output_type": "stream",
          "text": [
            "Epoch  0 Loss:  1.5538440942764282\n",
            "acc:  60.030031337047355\n",
            "Val acc:  22.864583333333332 Val loss:  2.8476153055826825\n",
            "Epoch  1 Loss:  1.308781623840332\n",
            "acc:  59.79935584958217\n",
            "Val acc:  23.697916666666668 Val loss:  2.8844395955403646\n",
            "Epoch  2 Loss:  1.3265432119369507\n",
            "acc:  60.36516364902507\n",
            "Val acc:  24.166666666666668 Val loss:  2.8932706197102864\n",
            "Epoch  3 Loss:  1.3349405527114868\n",
            "acc:  60.38039693593315\n",
            "Val acc:  23.90625 Val loss:  2.909354654947917\n",
            "Epoch  4 Loss:  1.5555471181869507\n",
            "acc:  60.31728760445682\n",
            "Val acc:  25.46875 Val loss:  2.8619099934895833\n",
            "Epoch  5 Loss:  1.3949347734451294\n",
            "acc:  60.706824512534816\n",
            "Val acc:  24.479166666666668 Val loss:  2.9290898640950522\n",
            "Epoch  6 Loss:  1.4573570489883423\n",
            "acc:  61.17688022284123\n",
            "Val acc:  23.4375 Val loss:  2.9773790995279947\n",
            "Epoch  7 Loss:  1.0543276071548462\n",
            "acc:  60.687238857938716\n",
            "Val acc:  24.53125 Val loss:  2.8776212056477863\n",
            "Epoch  8 Loss:  1.5934693813323975\n",
            "acc:  60.69159122562674\n",
            "Val acc:  27.65625 Val loss:  2.7523981730143228\n",
            "Epoch  9 Loss:  1.6513252258300781\n",
            "acc:  60.56102019498607\n",
            "Val acc:  24.791666666666668 Val loss:  2.88177973429362\n",
            "Epoch  10 Loss:  1.6423417329788208\n",
            "acc:  60.43697771587744\n",
            "Val acc:  24.791666666666668 Val loss:  2.916493225097656\n",
            "Epoch  11 Loss:  1.347257137298584\n",
            "acc:  60.950557103064064\n",
            "Val acc:  23.802083333333332 Val loss:  2.9173609415690103\n",
            "Epoch  12 Loss:  1.5062423944473267\n",
            "acc:  60.99843314763231\n",
            "Val acc:  23.958333333333332 Val loss:  2.911346181233724\n",
            "Epoch  13 Loss:  1.4806327819824219\n",
            "acc:  60.80257660167131\n",
            "Val acc:  23.697916666666668 Val loss:  2.9746370951334637\n",
            "Epoch  14 Loss:  1.5442237854003906\n",
            "acc:  60.798224233983284\n",
            "Val acc:  25.46875 Val loss:  2.882817586263021\n",
            "Epoch  15 Loss:  1.2787744998931885\n",
            "acc:  60.92879526462396\n",
            "Val acc:  24.322916666666668 Val loss:  2.881951395670573\n",
            "Epoch  16 Loss:  1.2967655658721924\n",
            "acc:  61.179056406685234\n",
            "Val acc:  25.3125 Val loss:  2.9459409077962238\n",
            "Epoch  17 Loss:  1.645408034324646\n",
            "acc:  61.496779247910865\n",
            "Val acc:  25.104166666666668 Val loss:  2.8545687357584635\n",
            "Epoch  18 Loss:  1.7181004285812378\n",
            "acc:  61.16164693593315\n",
            "Val acc:  24.375 Val loss:  2.9739105224609377\n",
            "Epoch  19 Loss:  1.7666138410568237\n",
            "acc:  61.23781337047354\n",
            "Val acc:  22.447916666666668 Val loss:  2.9804059346516927\n",
            "Epoch  20 Loss:  1.3259812593460083\n",
            "acc:  61.901549442896936\n",
            "Val acc:  23.697916666666668 Val loss:  2.9824119567871095\n",
            "Epoch  21 Loss:  1.3177504539489746\n",
            "acc:  61.712221448467965\n",
            "Val acc:  22.708333333333332 Val loss:  2.9648897806803385\n",
            "Epoch  22 Loss:  1.662994623184204\n",
            "acc:  61.320508356545965\n",
            "Val acc:  24.21875 Val loss:  2.9333836873372396\n",
            "Epoch  23 Loss:  1.3390315771102905\n",
            "acc:  61.37273676880223\n",
            "Val acc:  24.635416666666668 Val loss:  2.9330520629882812\n",
            "Epoch  24 Loss:  1.724104881286621\n",
            "acc:  61.97118732590529\n",
            "Val acc:  26.197916666666668 Val loss:  2.777344258626302\n"
          ],
          "name": "stdout"
        }
      ]
    },
    {
      "cell_type": "code",
      "metadata": {
        "id": "edBEWcgqETwG",
        "outputId": "9bcba3e0-fea2-4233-ee79-384121174fd5",
        "colab": {
          "base_uri": "https://localhost:8080/"
        }
      },
      "source": [
        "for param_group in optimiser.param_groups:\n",
        "        param_group['lr'] = learning_rate/81\n",
        "train(25, gen, vgen)"
      ],
      "execution_count": 48,
      "outputs": [
        {
          "output_type": "stream",
          "text": [
            "Epoch  0 Loss:  1.322782278060913\n",
            "acc:  61.858025766016716\n",
            "Val acc:  23.958333333333332 Val loss:  2.944024658203125\n",
            "Epoch  1 Loss:  1.498641848564148\n",
            "acc:  61.76009749303621\n",
            "Val acc:  24.583333333333332 Val loss:  2.910088857014974\n",
            "Epoch  2 Loss:  1.4566476345062256\n",
            "acc:  61.21822771587744\n",
            "Val acc:  23.958333333333332 Val loss:  2.9279050191243488\n",
            "Epoch  3 Loss:  1.1168828010559082\n",
            "acc:  61.92766364902507\n",
            "Val acc:  22.708333333333332 Val loss:  2.943163299560547\n",
            "Epoch  4 Loss:  1.4523355960845947\n",
            "acc:  62.23668175487465\n",
            "Val acc:  25.052083333333332 Val loss:  2.883373514811198\n",
            "Epoch  5 Loss:  1.5245578289031982\n",
            "acc:  61.940720752089135\n",
            "Val acc:  25.260416666666668 Val loss:  2.847063446044922\n",
            "Epoch  6 Loss:  1.1884918212890625\n",
            "acc:  62.0125348189415\n",
            "Val acc:  23.90625 Val loss:  2.899588775634766\n",
            "Epoch  7 Loss:  1.2389743328094482\n",
            "acc:  61.94724930362117\n",
            "Val acc:  24.427083333333332 Val loss:  2.8992818196614585\n",
            "Epoch  8 Loss:  1.951547622680664\n",
            "acc:  61.640407381615596\n",
            "Val acc:  24.6875 Val loss:  2.9478541056315106\n",
            "Epoch  9 Loss:  2.023496150970459\n",
            "acc:  61.91243036211699\n",
            "Val acc:  23.333333333333332 Val loss:  2.9699686686197917\n",
            "Epoch  10 Loss:  1.326308250427246\n",
            "acc:  61.98642061281337\n",
            "Val acc:  23.90625 Val loss:  2.9441439310709634\n",
            "Epoch  11 Loss:  1.4404269456863403\n",
            "acc:  61.6795786908078\n",
            "Val acc:  23.645833333333332 Val loss:  2.9568458557128907\n",
            "Epoch  12 Loss:  1.3604260683059692\n",
            "acc:  61.720926183844014\n",
            "Val acc:  24.010416666666668 Val loss:  2.932325998942057\n",
            "Epoch  13 Loss:  1.5666347742080688\n",
            "acc:  62.112639275766014\n",
            "Val acc:  23.802083333333332 Val loss:  2.924016825358073\n",
            "Epoch  14 Loss:  1.5838381052017212\n",
            "acc:  62.01471100278552\n",
            "Val acc:  23.854166666666668 Val loss:  2.99189936319987\n",
            "Epoch  15 Loss:  1.5089218616485596\n",
            "acc:  61.67522632311978\n",
            "Val acc:  24.583333333333332 Val loss:  2.9276456197102863\n",
            "Epoch  16 Loss:  1.4722859859466553\n",
            "acc:  61.93201601671309\n",
            "Val acc:  25.15625 Val loss:  2.902618916829427\n",
            "Epoch  17 Loss:  1.3706308603286743\n",
            "acc:  61.99947771587744\n",
            "Val acc:  26.041666666666668 Val loss:  2.85882085164388\n",
            "Epoch  18 Loss:  1.4428468942642212\n",
            "acc:  62.00165389972145\n",
            "Val acc:  25.0 Val loss:  2.910034942626953\n",
            "Epoch  19 Loss:  1.020465612411499\n",
            "acc:  62.097405988857936\n",
            "Val acc:  23.4375 Val loss:  2.929228973388672\n",
            "Epoch  20 Loss:  1.5264095067977905\n",
            "acc:  62.3433147632312\n",
            "Val acc:  24.114583333333332 Val loss:  2.893504333496094\n",
            "Epoch  21 Loss:  1.6139180660247803\n",
            "acc:  62.19968662952646\n",
            "Val acc:  24.0625 Val loss:  2.9390159606933595\n",
            "Epoch  22 Loss:  1.3075064420700073\n",
            "acc:  62.2083913649025\n",
            "Val acc:  24.479166666666668 Val loss:  2.8912439982096356\n",
            "Epoch  23 Loss:  1.2433288097381592\n",
            "acc:  62.530466573816156\n",
            "Val acc:  25.46875 Val loss:  2.920268758138021\n",
            "Epoch  24 Loss:  1.5975677967071533\n",
            "acc:  62.3824860724234\n",
            "Val acc:  25.260416666666668 Val loss:  2.8993125915527345\n"
          ],
          "name": "stdout"
        }
      ]
    },
    {
      "cell_type": "code",
      "metadata": {
        "id": "5rqVLbRKGUdN",
        "outputId": "18a2ba7b-93d3-4aaf-e1c3-060708dc8ee9",
        "colab": {
          "base_uri": "https://localhost:8080/"
        }
      },
      "source": [
        "for param_group in optimiser.param_groups:\n",
        "        param_group['lr'] = learning_rate/243\n",
        "train(25, gen, vgen)"
      ],
      "execution_count": 50,
      "outputs": [
        {
          "output_type": "stream",
          "text": [
            "Epoch  0 Loss:  1.7842508554458618\n",
            "acc:  61.84932103064067\n",
            "Val acc:  21.770833333333332 Val loss:  2.9678009033203123\n",
            "Epoch  1 Loss:  1.150941014289856\n",
            "acc:  61.901549442896936\n",
            "Val acc:  22.708333333333332 Val loss:  2.981287129720052\n",
            "Epoch  2 Loss:  1.3207858800888062\n",
            "acc:  61.96683495821727\n",
            "Val acc:  23.802083333333332 Val loss:  2.9584228515625\n",
            "Epoch  3 Loss:  1.4337856769561768\n",
            "acc:  62.35201949860724\n",
            "Val acc:  24.0625 Val loss:  3.011061350504557\n",
            "Epoch  4 Loss:  1.4418821334838867\n",
            "acc:  61.960306406685234\n",
            "Val acc:  23.125 Val loss:  2.9362202962239583\n",
            "Epoch  5 Loss:  1.5871052742004395\n",
            "acc:  61.949425487465184\n",
            "Val acc:  25.572916666666668 Val loss:  2.912506357828776\n",
            "Epoch  6 Loss:  1.429781198501587\n",
            "acc:  62.169220055710305\n",
            "Val acc:  22.291666666666668 Val loss:  3.0262451171875\n",
            "Epoch  7 Loss:  1.1731677055358887\n",
            "acc:  62.21709610027855\n",
            "Val acc:  21.09375 Val loss:  2.995799255371094\n",
            "Epoch  8 Loss:  1.321407675743103\n",
            "acc:  62.24756267409471\n",
            "Val acc:  23.4375 Val loss:  2.9179486592610675\n",
            "Epoch  9 Loss:  1.4465306997299194\n",
            "acc:  61.82755919220056\n",
            "Val acc:  22.916666666666668 Val loss:  2.9650372823079425\n",
            "Epoch  10 Loss:  1.140013575553894\n",
            "acc:  62.28020543175487\n",
            "Val acc:  23.385416666666668 Val loss:  2.948615010579427\n",
            "Epoch  11 Loss:  1.4387133121490479\n",
            "acc:  62.088701253481894\n",
            "Val acc:  25.677083333333332 Val loss:  2.894514719645182\n",
            "Epoch  12 Loss:  1.4554789066314697\n",
            "acc:  62.430362116991645\n",
            "Val acc:  24.739583333333332 Val loss:  2.9346516927083335\n",
            "Epoch  13 Loss:  1.7479639053344727\n",
            "acc:  61.93636838440111\n",
            "Val acc:  23.59375 Val loss:  2.909807332356771\n",
            "Epoch  14 Loss:  1.6259524822235107\n",
            "acc:  61.953777855153206\n",
            "Val acc:  23.385416666666668 Val loss:  2.9999567667643228\n",
            "Epoch  15 Loss:  1.271379828453064\n",
            "acc:  62.145282033426184\n",
            "Val acc:  24.895833333333332 Val loss:  2.9152559916178387\n",
            "Epoch  16 Loss:  1.5218969583511353\n",
            "acc:  62.05823467966574\n",
            "Val acc:  25.677083333333332 Val loss:  2.90056889851888\n",
            "Epoch  17 Loss:  1.3235749006271362\n",
            "acc:  62.345490947075206\n",
            "Val acc:  24.322916666666668 Val loss:  2.924305216471354\n",
            "Epoch  18 Loss:  1.4539361000061035\n",
            "acc:  62.3824860724234\n",
            "Val acc:  23.4375 Val loss:  2.974890645345052\n",
            "Epoch  19 Loss:  1.2961304187774658\n",
            "acc:  62.016887186629525\n",
            "Val acc:  23.854166666666668 Val loss:  2.956659698486328\n",
            "Epoch  20 Loss:  1.1123309135437012\n",
            "acc:  62.08434888579387\n",
            "Val acc:  24.947916666666668 Val loss:  2.941021728515625\n",
            "Epoch  21 Loss:  1.0313445329666138\n",
            "acc:  62.38030988857939\n",
            "Val acc:  22.395833333333332 Val loss:  2.982122548421224\n",
            "Epoch  22 Loss:  1.2528817653656006\n",
            "acc:  62.40860027855153\n",
            "Val acc:  24.895833333333332 Val loss:  2.9249893188476563\n",
            "Epoch  23 Loss:  1.1512699127197266\n",
            "acc:  62.40642409470752\n",
            "Val acc:  23.59375 Val loss:  2.913690694173177\n",
            "Epoch  24 Loss:  1.5255405902862549\n",
            "acc:  62.16269150417827\n",
            "Val acc:  23.489583333333332 Val loss:  2.947013346354167\n"
          ],
          "name": "stdout"
        }
      ]
    },
    {
      "cell_type": "code",
      "metadata": {
        "id": "oOi8wRDOgohC",
        "outputId": "9a2f100d-1088-4bc4-ca3c-19d81389df98",
        "colab": {
          "base_uri": "https://localhost:8080/",
          "height": 297
        }
      },
      "source": [
        "plot_fit_history(hist)\n"
      ],
      "execution_count": 51,
      "outputs": [
        {
          "output_type": "display_data",
          "data": {
            "image/png": "[encoded data removed]",
            "text/plain": [
              "<Figure size 432x288 with 2 Axes>"
            ]
          },
          "metadata": {
            "tags": [],
            "needs_background": "light"
          }
        }
      ]
    },
    {
      "cell_type": "code",
      "metadata": {
        "id": "1nT5vts5ETAQ"
      },
      "source": [
        ""
      ],
      "execution_count": null,
      "outputs": []
    },
    {
      "cell_type": "code",
      "metadata": {
        "id": "38jGl7cIjDKt"
      },
      "source": [
        ""
      ],
      "execution_count": null,
      "outputs": []
    }
  ]
}